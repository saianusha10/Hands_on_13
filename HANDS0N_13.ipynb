{
  "nbformat": 4,
  "nbformat_minor": 0,
  "metadata": {
    "colab": {
      "provenance": [],
      "authorship_tag": "ABX9TyMmNY0EoAHuIAGmDew2Koxj",
      "include_colab_link": true
    },
    "kernelspec": {
      "name": "python3",
      "display_name": "Python 3"
    },
    "language_info": {
      "name": "python"
    }
  },
  "cells": [
    {
      "cell_type": "markdown",
      "metadata": {
        "id": "view-in-github",
        "colab_type": "text"
      },
      "source": [
        "<a href=\"https://colab.research.google.com/github/saianusha10/Hands_on_13/blob/main/HANDS0N_13.ipynb\" target=\"_parent\"><img src=\"https://colab.research.google.com/assets/colab-badge.svg\" alt=\"Open In Colab\"/></a>"
      ]
    },
    {
      "cell_type": "markdown",
      "source": [
        "Q1. Topological sort"
      ],
      "metadata": {
        "id": "0kx0vvqWlNiO"
      }
    },
    {
      "cell_type": "code",
      "source": [
        "from collections import defaultdict\n",
        "\n",
        "class DirectedGraph:\n",
        "    def __init__(self, vertex_count):\n",
        "        self.adjacency_list = defaultdict(list)\n",
        "        self.num_vertices = vertex_count\n",
        "\n",
        "    def insert_edge(self, start, end):\n",
        "        self.adjacency_list[start].append(end)\n",
        "\n",
        "    def topological_sort_helper(self, node, visited_nodes, sorted_nodes):\n",
        "        visited_nodes[node] = True\n",
        "        for neighbor in self.adjacency_list[node]:\n",
        "            if not visited_nodes[neighbor]:\n",
        "                self.topological_sort_helper(neighbor, visited_nodes, sorted_nodes)\n",
        "        sorted_nodes.insert(0, node)\n",
        "\n",
        "    def compute_topological_sort(self, vertices):\n",
        "        visited_nodes = {vertex: False for vertex in vertices}\n",
        "        sorted_nodes = []\n",
        "        for vertex in vertices:\n",
        "            if not visited_nodes[vertex]:\n",
        "                self.topological_sort_helper(vertex, visited_nodes, sorted_nodes)\n",
        "        return sorted_nodes\n",
        "\n",
        "# Define vertices and edges for the example\n",
        "vertices = [\"phone\", \"laptop\", \"tab\", \"pods\", \"monitor\", \"bottle\", \"ring\", \"shoes\", \"watch\"]\n",
        "\n",
        "# List of directed edges\n",
        "connections = [\n",
        "    (\"phone\", \"laptop\"),\n",
        "    (\"laptop\", \"tab\"),\n",
        "    (\"laptop\", \"shoes\"),\n",
        "    (\"pods\", \"tab\"),\n",
        "    (\"pods\", \"monitor\"),\n",
        "    (\"monitor\", \"bottle\"),\n",
        "    (\"tab\", \"bottle\"),\n",
        "    (\"ring\", \"shoes\")\n",
        "]\n",
        "\n",
        "# Create graph and add edges\n",
        "graph = DirectedGraph(len(vertices))\n",
        "for start, end in connections:\n",
        "    graph.insert_edge(start, end)\n",
        "\n",
        "# Perform topological sort\n",
        "print(\"Topological Sort:\", graph.compute_topological_sort(vertices))"
      ],
      "metadata": {
        "colab": {
          "base_uri": "https://localhost:8080/"
        },
        "id": "q792o7zwlROA",
        "outputId": "107ee5eb-8d80-4da6-a211-06b05646299b"
      },
      "execution_count": 5,
      "outputs": [
        {
          "output_type": "stream",
          "name": "stdout",
          "text": [
            "Topological Sort: ['watch', 'ring', 'pods', 'monitor', 'phone', 'laptop', 'shoes', 'tab', 'bottle']\n"
          ]
        }
      ]
    },
    {
      "cell_type": "markdown",
      "source": [
        "Q2. Depth-First Search"
      ],
      "metadata": {
        "id": "xeSlz5-Pk79l"
      }
    },
    {
      "cell_type": "code",
      "execution_count": 1,
      "metadata": {
        "colab": {
          "base_uri": "https://localhost:8080/"
        },
        "id": "2OcYxfAkkvNH",
        "outputId": "4865b154-4208-4fd3-8053-bb2a086a7564"
      },
      "outputs": [
        {
          "output_type": "stream",
          "name": "stdout",
          "text": [
            "Depth-First Search from 'u':\n",
            "u v y x \n"
          ]
        }
      ],
      "source": [
        "from collections import defaultdict\n",
        "\n",
        "def perform_dfs(edges, start_point):\n",
        "    adjacency_map = defaultdict(list)\n",
        "    for origin, destination in edges:\n",
        "        adjacency_map[origin].append(destination)\n",
        "\n",
        "    seen = set()\n",
        "\n",
        "    def traverse(node):\n",
        "        if node not in seen:\n",
        "            print(node, end=' ')\n",
        "            seen.add(node)\n",
        "            for adjacent in adjacency_map[node]:\n",
        "                traverse(adjacent)\n",
        "\n",
        "    traverse(start_point)\n",
        "    print()\n",
        "\n",
        "# Define edges for DFS example\n",
        "example_edges = [\n",
        "    (\"u\", \"v\"),\n",
        "    (\"u\", \"x\"),\n",
        "    (\"v\", \"y\"),\n",
        "    (\"y\", \"x\"),\n",
        "    (\"x\", \"v\"),\n",
        "    (\"w\", \"z\"),\n",
        "    (\"w\", \"y\"),\n",
        "    (\"z\", \"z\")  # self-loop\n",
        "]\n",
        "\n",
        "print(\"Depth-First Search from 'u':\")\n",
        "perform_dfs(example_edges, 'u')"
      ]
    },
    {
      "cell_type": "markdown",
      "source": [
        "Q3. Kruskal algorithm"
      ],
      "metadata": {
        "id": "ZqMkSyxglWbY"
      }
    },
    {
      "cell_type": "code",
      "source": [
        "class GraphEdge:\n",
        "    def __init__(self, weight, start, end):\n",
        "        self.weight = weight\n",
        "        self.start = start\n",
        "        self.end = end\n",
        "\n",
        "class DisjointSetUnion:\n",
        "    def __init__(self, vertices):\n",
        "        self.parent = {vertex: vertex for vertex in vertices}\n",
        "        self.rank = {vertex: 0 for vertex in vertices}\n",
        "\n",
        "    def find(self, vertex):\n",
        "        if self.parent[vertex] != vertex:\n",
        "            self.parent[vertex] = self.find(self.parent[vertex])\n",
        "        return self.parent[vertex]\n",
        "\n",
        "    def union(self, vertex1, vertex2):\n",
        "        root1 = self.find(vertex1)\n",
        "        root2 = self.find(vertex2)\n",
        "        if root1 != root2:\n",
        "            if self.rank[root1] > self.rank[root2]:\n",
        "                self.parent[root2] = root1\n",
        "            elif self.rank[root1] < self.rank[root2]:\n",
        "                self.parent[root1] = root2\n",
        "            else:\n",
        "                self.parent[root2] = root1\n",
        "                self.rank[root1] += 1\n",
        "\n",
        "def kruskal_mst(vertices, edges):\n",
        "    edges = sorted(edges, key=lambda edge: edge.weight)\n",
        "    dsu = DisjointSetUnion(vertices)\n",
        "    mst_result = []\n",
        "\n",
        "    for edge in edges:\n",
        "        if dsu.find(edge.start) != dsu.find(edge.end):\n",
        "            dsu.union(edge.start, edge.end)\n",
        "            mst_result.append(edge)\n",
        "\n",
        "    return mst_result\n",
        "\n",
        "# Define nodes and edges for Kruskal's example\n",
        "nodes_kruskal = {\"a\", \"b\", \"c\", \"d\", \"e\", \"f\", \"g\", \"h\", \"i\"}\n",
        "edges_kruskal = [\n",
        "    GraphEdge(4, \"a\", \"b\"),\n",
        "    GraphEdge(8, \"a\", \"h\"),\n",
        "    GraphEdge(9, \"b\", \"c\"),\n",
        "    GraphEdge(11, \"b\", \"h\"),\n",
        "    GraphEdge(5, \"c\", \"d\"),\n",
        "    GraphEdge(1, \"c\", \"f\"),\n",
        "    GraphEdge(2, \"c\", \"i\"),\n",
        "    GraphEdge(6, \"c\", \"g\"),\n",
        "    GraphEdge(9, \"d\", \"e\"),\n",
        "    GraphEdge(6, \"d\", \"f\"),\n",
        "    GraphEdge(3, \"e\", \"f\"),\n",
        "    GraphEdge(2, \"f\", \"g\"),\n",
        "    GraphEdge(1, \"g\", \"h\"),\n",
        "    GraphEdge(2, \"h\", \"i\")\n",
        "]\n",
        "\n",
        "# Perform Kruskal's MST\n",
        "mst = kruskal_mst(nodes_kruskal, edges_kruskal)\n",
        "print(\"Kruskal's MST:\")\n",
        "for edge in mst:\n",
        "    print(f\"Edge {edge.start}-{edge.end} with weight {edge.weight}\")"
      ],
      "metadata": {
        "colab": {
          "base_uri": "https://localhost:8080/"
        },
        "id": "TmZQSzhKlbE7",
        "outputId": "61d115f5-86ed-4125-ee52-86ece3f578d9"
      },
      "execution_count": 6,
      "outputs": [
        {
          "output_type": "stream",
          "name": "stdout",
          "text": [
            "Kruskal's MST:\n",
            "Edge c-f with weight 1\n",
            "Edge g-h with weight 1\n",
            "Edge c-i with weight 2\n",
            "Edge f-g with weight 2\n",
            "Edge e-f with weight 3\n",
            "Edge a-b with weight 4\n",
            "Edge c-d with weight 5\n",
            "Edge a-h with weight 8\n"
          ]
        }
      ]
    }
  ]
}